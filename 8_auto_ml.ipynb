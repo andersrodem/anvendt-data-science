{
 "cells": [
  {
   "cell_type": "code",
   "execution_count": null,
   "metadata": {},
   "outputs": [],
   "source": [
    "!pip uninstall -y numpy scipy autogluon autogluon.timeseries\n",
    "!pip install numpy==1.23.5 scipy==1.9.3\n",
    "!pip install autogluon.timeseries\n",
    "!pip install torch"
   ]
  },
  {
   "cell_type": "code",
   "execution_count": null,
   "metadata": {},
   "outputs": [],
   "source": [
    "import pandas as pd\n",
    "from autogluon.timeseries import TimeSeriesPredictor, TimeSeriesDataFrame\n",
    "import torch\n",
    "\n",
    "# Load your preprocessed dataset\n",
    "file_path = 'automl_dataset.csv'\n",
    "df = pd.read_csv(file_path)\n",
    "\n",
    "# Ensure timestamp column is datetime\n",
    "df['timestamp'] = pd.to_datetime(df['timestamp'])\n",
    "\n",
    "# Set all rows to the same item_id (1) to create a single time series\n",
    "df['item_id'] = 1\n",
    "\n",
    "# Convert to TimeSeriesDataFrame\n",
    "df_tsd = TimeSeriesDataFrame.from_data_frame(\n",
    "    df,\n",
    "    id_column='item_id',\n",
    "    timestamp_column='timestamp'\n",
    ")\n",
    "\n",
    "# Split into training and testing data\n",
    "train_size = int(len(df_tsd) * 0.8)\n",
    "split_timestamp = df_tsd.index.get_level_values(1)[train_size]\n",
    "\n",
    "train_data = df_tsd[df_tsd.index.get_level_values(1) < split_timestamp]\n",
    "test_data = df_tsd[df_tsd.index.get_level_values(1) >= split_timestamp]\n",
    "\n",
    "# Setup and train the TimeSeriesPredictor with reduced complexity\n",
    "predictor = TimeSeriesPredictor(\n",
    "    path='autogluon_checkpoints',\n",
    "    prediction_length=1,\n",
    "    \n",
    "    eval_metric='RMSE',\n",
    "    freq='D',\n",
    ")\n",
    "\n",
    "# Fit the model with reduced time limit and simpler preset\n",
    "predictor.fit(\n",
    "    train_data=train_data, \n",
    "    presets='high_quality',\n",
    "    time_limit=9000, # 2,5 hours\n",
    "    excluded_model_types=['RecursiveTabular', 'DirectTabular']\n",
    ")\n",
    "\n",
    "# Generate predictions on test data\n",
    "predictions = predictor.predict(test_data)\n",
    "\n",
    "# Save predictions\n",
    "predictions.to_csv('autogluon_predictions.csv')\n",
    "\n",
    "# Leaderboard of models\n",
    "leaderboard = predictor.leaderboard()\n",
    "print(leaderboard)"
   ]
  },
  {
   "cell_type": "code",
   "execution_count": null,
   "metadata": {},
   "outputs": [],
   "source": []
  }
 ],
 "metadata": {
  "kernelspec": {
   "display_name": "Python 3",
   "language": "python",
   "name": "python3"
  },
  "language_info": {
   "codemirror_mode": {
    "name": "ipython",
    "version": 3
   },
   "file_extension": ".py",
   "mimetype": "text/x-python",
   "name": "python",
   "nbconvert_exporter": "python",
   "pygments_lexer": "ipython3",
   "version": "3.11.9"
  }
 },
 "nbformat": 4,
 "nbformat_minor": 2
}

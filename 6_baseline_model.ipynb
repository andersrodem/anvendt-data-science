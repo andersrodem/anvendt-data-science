{
 "cells": [
  {
   "cell_type": "code",
   "execution_count": 6,
   "metadata": {},
   "outputs": [
    {
     "name": "stdout",
     "output_type": "stream",
     "text": [
      "Baseline Model RMSE (Previous Day Spot Price): 2.443497347447962\n"
     ]
    },
    {
     "name": "stderr",
     "output_type": "stream",
     "text": [
      "/Users/andersrodem/.pyenv/versions/3.11.9/lib/python3.11/site-packages/sklearn/metrics/_regression.py:492: FutureWarning: 'squared' is deprecated in version 1.4 and will be removed in 1.6. To calculate the root mean squared error, use the function'root_mean_squared_error'.\n",
      "  warnings.warn(\n"
     ]
    }
   ],
   "source": [
    "# Import necessary libraries\n",
    "import pandas as pd\n",
    "from sklearn.metrics import mean_squared_error\n",
    "\n",
    "# Load the preprocessed dataset\n",
    "file_path = 'preprocessed_dataset.csv' \n",
    "data = pd.read_csv(file_path)\n",
    "\n",
    "# Target variable\n",
    "y = data['spot_price']\n",
    "\n",
    "# Simple baseline model: predict the previous day's spot price\n",
    "y_pred_baseline = y.shift(1)\n",
    "\n",
    "# Remove the first row as it will have NaN due to shift\n",
    "y = y.iloc[1:]\n",
    "y_pred_baseline = y_pred_baseline.iloc[1:]\n",
    "\n",
    "# Calculate the RMSE for the baseline model\n",
    "baseline_rmse = mean_squared_error(y, y_pred_baseline, squared=False)\n",
    "\n",
    "# Output the RMSE result for the baseline model\n",
    "print(\"Baseline Model RMSE (Previous Day Spot Price):\", baseline_rmse)\n"
   ]
  },
  {
   "cell_type": "code",
   "execution_count": null,
   "metadata": {},
   "outputs": [],
   "source": []
  }
 ],
 "metadata": {
  "kernelspec": {
   "display_name": "Python 3",
   "language": "python",
   "name": "python3"
  },
  "language_info": {
   "codemirror_mode": {
    "name": "ipython",
    "version": 3
   },
   "file_extension": ".py",
   "mimetype": "text/x-python",
   "name": "python",
   "nbconvert_exporter": "python",
   "pygments_lexer": "ipython3",
   "version": "3.11.9"
  }
 },
 "nbformat": 4,
 "nbformat_minor": 2
}

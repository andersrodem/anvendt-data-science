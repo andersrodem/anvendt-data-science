{
 "cells": [
  {
   "cell_type": "code",
   "execution_count": 19,
   "metadata": {},
   "outputs": [],
   "source": [
    "import pandas as pd\n",
    "import matplotlib.pyplot as plt\n",
    "import seaborn as sns\n"
   ]
  },
  {
   "cell_type": "code",
   "execution_count": 20,
   "metadata": {},
   "outputs": [
    {
     "name": "stdout",
     "output_type": "stream",
     "text": [
      "  datetime_utc;volume_demand;volume_production;spot_price\n",
      "0      2015-12-31 23:00:00+00:00;4043.0;7818.0;16.39     \n",
      "1      2016-01-01 00:00:00+00:00;4010.0;7694.0;16.04     \n",
      "2      2016-01-01 01:00:00+00:00;3930.0;7437.0;15.74     \n",
      "3      2016-01-01 02:00:00+00:00;3839.0;7120.0;15.57     \n",
      "4      2016-01-01 03:00:00+00:00;3833.0;7041.0;15.47     \n"
     ]
    }
   ],
   "source": [
    "# Replace 'your_dataset.csv' with the actual name of your CSV file\n",
    "df = pd.read_csv('data_NO2.csv')\n",
    "\n",
    "# Display the first few rows of the dataset\n",
    "print(df.head())"
   ]
  },
  {
   "cell_type": "code",
   "execution_count": 21,
   "metadata": {},
   "outputs": [
    {
     "name": "stdout",
     "output_type": "stream",
     "text": [
      "<class 'pandas.core.frame.DataFrame'>\n",
      "RangeIndex: 23666 entries, 0 to 23665\n",
      "Data columns (total 1 columns):\n",
      " #   Column                                                   Non-Null Count  Dtype \n",
      "---  ------                                                   --------------  ----- \n",
      " 0   datetime_utc;volume_demand;volume_production;spot_price  23666 non-null  object\n",
      "dtypes: object(1)\n",
      "memory usage: 185.0+ KB\n",
      "None\n",
      "       datetime_utc;volume_demand;volume_production;spot_price\n",
      "count                                               23666     \n",
      "unique                                              23666     \n",
      "top         2015-12-31 23:00:00+00:00;4043.0;7818.0;16.39     \n",
      "freq                                                    1     \n",
      "Index(['datetime_utc;volume_demand;volume_production;spot_price'], dtype='object')\n"
     ]
    }
   ],
   "source": [
    "# Display basic information about the dataset\n",
    "print(df.info())\n",
    "\n",
    "# Show summary statistics of numerical columns\n",
    "print(df.describe())\n",
    "\n",
    "# Display column names\n",
    "print(df.columns)"
   ]
  },
  {
   "cell_type": "code",
   "execution_count": 22,
   "metadata": {},
   "outputs": [
    {
     "name": "stdout",
     "output_type": "stream",
     "text": [
      "datetime_utc;volume_demand;volume_production;spot_price    0\n",
      "dtype: int64\n"
     ]
    },
    {
     "data": {
      "image/png": "[encoded data removed]",
      "text/plain": [
       "<Figure size 1000x600 with 1 Axes>"
      ]
     },
     "metadata": {},
     "output_type": "display_data"
    }
   ],
   "source": [
    "# Display the number of missing values in each column\n",
    "print(df.isnull().sum())\n",
    "\n",
    "# Visualize missing values\n",
    "plt.figure(figsize=(10, 6))\n",
    "sns.heatmap(df.isnull(), yticklabels=False, cbar=False, cmap='viridis')\n",
    "plt.title('Missing Value Heatmap')\n",
    "plt.show()"
   ]
  },
  {
   "cell_type": "code",
   "execution_count": 23,
   "metadata": {},
   "outputs": [],
   "source": [
    "# Identify numerical columns\n",
    "num_columns = df.select_dtypes(include=['int64', 'float64']).columns\n",
    "\n",
    "# Plot histograms for numerical variables\n",
    "for col in num_columns:\n",
    "    plt.figure(figsize=(10, 6))\n",
    "    sns.histplot(df[col], kde=True)\n",
    "    plt.title(f'Distribution of {col}')\n",
    "    plt.xlabel(col)\n",
    "    plt.ylabel('Frequency')\n",
    "    plt.show()"
   ]
  },
  {
   "cell_type": "code",
   "execution_count": null,
   "metadata": {},
   "outputs": [],
   "source": []
  }
 ],
 "metadata": {
  "kernelspec": {
   "display_name": "Python 3",
   "language": "python",
   "name": "python3"
  },
  "language_info": {
   "codemirror_mode": {
    "name": "ipython",
    "version": 3
   },
   "file_extension": ".py",
   "mimetype": "text/x-python",
   "name": "python",
   "nbconvert_exporter": "python",
   "pygments_lexer": "ipython3",
   "version": "3.11.9"
  }
 },
 "nbformat": 4,
 "nbformat_minor": 2
}
